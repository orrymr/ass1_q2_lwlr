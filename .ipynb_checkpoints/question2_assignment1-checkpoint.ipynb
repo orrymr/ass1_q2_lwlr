{
 "cells": [
  {
   "cell_type": "code",
   "execution_count": 1,
   "metadata": {
    "collapsed": false
   },
   "outputs": [],
   "source": [
    "import pandas\n",
    "import numpy as np\n",
    "import matplotlib.pyplot as plt\n",
    "%matplotlib inline"
   ]
  },
  {
   "cell_type": "markdown",
   "metadata": {},
   "source": [
    "<h1> 1 - Read in the data: <h2>"
   ]
  },
  {
   "cell_type": "code",
   "execution_count": 2,
   "metadata": {
    "collapsed": false
   },
   "outputs": [],
   "source": [
    "data = pandas.read_csv(\"data/x.dat\", header=None)"
   ]
  },
  {
   "cell_type": "code",
   "execution_count": 3,
   "metadata": {
    "collapsed": false
   },
   "outputs": [
    {
     "name": "stdout",
     "output_type": "stream",
     "text": [
      "<class 'pandas.core.frame.DataFrame'>\n",
      "(69, 1)\n"
     ]
    },
    {
     "data": {
      "text/html": [
       "<div>\n",
       "<table border=\"1\" class=\"dataframe\">\n",
       "  <thead>\n",
       "    <tr style=\"text-align: right;\">\n",
       "      <th></th>\n",
       "      <th>0</th>\n",
       "    </tr>\n",
       "  </thead>\n",
       "  <tbody>\n",
       "    <tr>\n",
       "      <th>0</th>\n",
       "      <td>-3.4792627e-01   8.6257310e-01</td>\n",
       "    </tr>\n",
       "    <tr>\n",
       "      <th>1</th>\n",
       "      <td>-1.4516129e-01   6.2865497e-01</td>\n",
       "    </tr>\n",
       "    <tr>\n",
       "      <th>2</th>\n",
       "      <td>-3.4562212e-02   2.8947368e-01</td>\n",
       "    </tr>\n",
       "    <tr>\n",
       "      <th>3</th>\n",
       "      <td>-1.4976959e-01   7.3099415e-02</td>\n",
       "    </tr>\n",
       "    <tr>\n",
       "      <th>4</th>\n",
       "      <td>-3.5253456e-01  -1.6081871e-01</td>\n",
       "    </tr>\n",
       "  </tbody>\n",
       "</table>\n",
       "</div>"
      ],
      "text/plain": [
       "                                  0\n",
       "0    -3.4792627e-01   8.6257310e-01\n",
       "1    -1.4516129e-01   6.2865497e-01\n",
       "2    -3.4562212e-02   2.8947368e-01\n",
       "3    -1.4976959e-01   7.3099415e-02\n",
       "4    -3.5253456e-01  -1.6081871e-01"
      ]
     },
     "execution_count": 3,
     "metadata": {},
     "output_type": "execute_result"
    }
   ],
   "source": [
    "print type(data)\n",
    "print data.shape\n",
    "data.head()"
   ]
  },
  {
   "cell_type": "markdown",
   "metadata": {},
   "source": [
    "As you can see, the DataFrame is the wrong dimensions\n",
    "Let's try that again..."
   ]
  },
  {
   "cell_type": "code",
   "execution_count": 4,
   "metadata": {
    "collapsed": false
   },
   "outputs": [],
   "source": [
    "pandas.read_csv?"
   ]
  },
  {
   "cell_type": "code",
   "execution_count": 5,
   "metadata": {
    "collapsed": false
   },
   "outputs": [
    {
     "name": "stdout",
     "output_type": "stream",
     "text": [
      "(69, 2)\n"
     ]
    },
    {
     "data": {
      "text/html": [
       "<div>\n",
       "<table border=\"1\" class=\"dataframe\">\n",
       "  <thead>\n",
       "    <tr style=\"text-align: right;\">\n",
       "      <th></th>\n",
       "      <th>var1</th>\n",
       "      <th>var2</th>\n",
       "    </tr>\n",
       "  </thead>\n",
       "  <tbody>\n",
       "    <tr>\n",
       "      <th>0</th>\n",
       "      <td>-0.347926</td>\n",
       "      <td>0.862573</td>\n",
       "    </tr>\n",
       "    <tr>\n",
       "      <th>1</th>\n",
       "      <td>-0.145161</td>\n",
       "      <td>0.628655</td>\n",
       "    </tr>\n",
       "    <tr>\n",
       "      <th>2</th>\n",
       "      <td>-0.034562</td>\n",
       "      <td>0.289474</td>\n",
       "    </tr>\n",
       "    <tr>\n",
       "      <th>3</th>\n",
       "      <td>-0.149770</td>\n",
       "      <td>0.073099</td>\n",
       "    </tr>\n",
       "    <tr>\n",
       "      <th>4</th>\n",
       "      <td>-0.352535</td>\n",
       "      <td>-0.160819</td>\n",
       "    </tr>\n",
       "  </tbody>\n",
       "</table>\n",
       "</div>"
      ],
      "text/plain": [
       "       var1      var2\n",
       "0 -0.347926  0.862573\n",
       "1 -0.145161  0.628655\n",
       "2 -0.034562  0.289474\n",
       "3 -0.149770  0.073099\n",
       "4 -0.352535 -0.160819"
      ]
     },
     "execution_count": 5,
     "metadata": {},
     "output_type": "execute_result"
    }
   ],
   "source": [
    "data = pandas.read_csv(\"data/x.dat\", header=None, delim_whitespace=True, names=[\"var1\", \"var2\"])\n",
    "print data.shape\n",
    "data.head()"
   ]
  },
  {
   "cell_type": "code",
   "execution_count": 6,
   "metadata": {
    "collapsed": false
   },
   "outputs": [
    {
     "name": "stdout",
     "output_type": "stream",
     "text": [
      "(69, 1)\n"
     ]
    },
    {
     "data": {
      "text/html": [
       "<div>\n",
       "<table border=\"1\" class=\"dataframe\">\n",
       "  <thead>\n",
       "    <tr style=\"text-align: right;\">\n",
       "      <th></th>\n",
       "      <th>outcome</th>\n",
       "    </tr>\n",
       "  </thead>\n",
       "  <tbody>\n",
       "    <tr>\n",
       "      <th>0</th>\n",
       "      <td>0.0</td>\n",
       "    </tr>\n",
       "    <tr>\n",
       "      <th>1</th>\n",
       "      <td>0.0</td>\n",
       "    </tr>\n",
       "    <tr>\n",
       "      <th>2</th>\n",
       "      <td>0.0</td>\n",
       "    </tr>\n",
       "    <tr>\n",
       "      <th>3</th>\n",
       "      <td>0.0</td>\n",
       "    </tr>\n",
       "    <tr>\n",
       "      <th>4</th>\n",
       "      <td>0.0</td>\n",
       "    </tr>\n",
       "  </tbody>\n",
       "</table>\n",
       "</div>"
      ],
      "text/plain": [
       "   outcome\n",
       "0      0.0\n",
       "1      0.0\n",
       "2      0.0\n",
       "3      0.0\n",
       "4      0.0"
      ]
     },
     "execution_count": 6,
     "metadata": {},
     "output_type": "execute_result"
    }
   ],
   "source": [
    "labels = pandas.read_csv(\"data/y.dat\", header=None, names=[\"outcome\"])\n",
    "print labels.shape\n",
    "labels.head()"
   ]
  },
  {
   "cell_type": "markdown",
   "metadata": {},
   "source": [
    "<h1> 2 - Display the data </h1>"
   ]
  },
  {
   "cell_type": "code",
   "execution_count": 7,
   "metadata": {
    "collapsed": false
   },
   "outputs": [],
   "source": [
    "all_data = pandas.concat([data, labels], axis = 1, names = [\"var1\", \"var2\", \"outcome\"]) #axis = 1 means concat it horizontally"
   ]
  },
  {
   "cell_type": "code",
   "execution_count": 8,
   "metadata": {
    "collapsed": false
   },
   "outputs": [
    {
     "name": "stdout",
     "output_type": "stream",
     "text": [
      "(69, 3)\n"
     ]
    },
    {
     "data": {
      "text/html": [
       "<div>\n",
       "<table border=\"1\" class=\"dataframe\">\n",
       "  <thead>\n",
       "    <tr style=\"text-align: right;\">\n",
       "      <th></th>\n",
       "      <th>var1</th>\n",
       "      <th>var2</th>\n",
       "      <th>outcome</th>\n",
       "    </tr>\n",
       "  </thead>\n",
       "  <tbody>\n",
       "    <tr>\n",
       "      <th>0</th>\n",
       "      <td>-0.347926</td>\n",
       "      <td>0.862573</td>\n",
       "      <td>0.0</td>\n",
       "    </tr>\n",
       "    <tr>\n",
       "      <th>1</th>\n",
       "      <td>-0.145161</td>\n",
       "      <td>0.628655</td>\n",
       "      <td>0.0</td>\n",
       "    </tr>\n",
       "    <tr>\n",
       "      <th>2</th>\n",
       "      <td>-0.034562</td>\n",
       "      <td>0.289474</td>\n",
       "      <td>0.0</td>\n",
       "    </tr>\n",
       "    <tr>\n",
       "      <th>3</th>\n",
       "      <td>-0.149770</td>\n",
       "      <td>0.073099</td>\n",
       "      <td>0.0</td>\n",
       "    </tr>\n",
       "    <tr>\n",
       "      <th>4</th>\n",
       "      <td>-0.352535</td>\n",
       "      <td>-0.160819</td>\n",
       "      <td>0.0</td>\n",
       "    </tr>\n",
       "  </tbody>\n",
       "</table>\n",
       "</div>"
      ],
      "text/plain": [
       "       var1      var2  outcome\n",
       "0 -0.347926  0.862573      0.0\n",
       "1 -0.145161  0.628655      0.0\n",
       "2 -0.034562  0.289474      0.0\n",
       "3 -0.149770  0.073099      0.0\n",
       "4 -0.352535 -0.160819      0.0"
      ]
     },
     "execution_count": 8,
     "metadata": {},
     "output_type": "execute_result"
    }
   ],
   "source": [
    "print all_data.shape\n",
    "all_data.head()"
   ]
  },
  {
   "cell_type": "code",
   "execution_count": 9,
   "metadata": {
    "collapsed": false
   },
   "outputs": [
    {
     "data": {
      "text/plain": [
       "<matplotlib.collections.PathCollection at 0x7fb774e91050>"
      ]
     },
     "execution_count": 9,
     "metadata": {},
     "output_type": "execute_result"
    },
    {
     "data": {
      "image/png": "[encoded data removed]",
      "text/plain": [
       "<matplotlib.figure.Figure at 0x7fb776edf2d0>"
      ]
     },
     "metadata": {},
     "output_type": "display_data"
    }
   ],
   "source": [
    "negative = all_data[all_data.outcome == 0]\n",
    "positive = all_data[all_data.outcome == 1]\n",
    "plt.scatter(negative.var1, negative.var2, c = 'b', marker = 'x')\n",
    "plt.scatter(positive.var1, positive.var2, c = 'r', marker = 'o')"
   ]
  },
  {
   "cell_type": "markdown",
   "metadata": {},
   "source": [
    "<h1> 3 - Doing LWLogisticR </h1>"
   ]
  },
  {
   "cell_type": "code",
   "execution_count": 10,
   "metadata": {
    "collapsed": false
   },
   "outputs": [],
   "source": [
    "LAMBDA = 0.0001\n",
    "\n",
    "def sigmoid(z): #will take in a scalar or a vector!\n",
    "    return 1 / (1 + np.e**(-z)) \n",
    "\n",
    "def hypothesis(theta, x):\n",
    "    return sigmoid(np.dot(x, theta))\n",
    "\n",
    "def gaussian(point1, point2, tau):\n",
    "        return np.exp(- (np.linalg.norm(a-b)**2) / (2 * tau**2))\n",
    "\n",
    "def getWeights(data, new_point, tau):\n",
    "    assert (new_point.shape[0] == 1) #new point should be 1xn, where n is the number of features\n",
    "    new_point_repeat = np.repeat(new_point, data.shape[0], axis = 0) #for a 2-D array, axis=0 == rows, axis=1 == columns    \n",
    "    norm_squared = np.linalg.norm(data - new_point_repeat, axis = 1) ** 2\n",
    "    weights = np.exp(-norm_squared / (2 * tau ** 2))\n",
    "    return weights.reshape(len(weights), 1)\n",
    "    \n",
    "def lwlr(x_train, y_train, x, tau):\n",
    "    x_train_aug = pandas.concat([pandas.Series(np.ones(len(x_train.index))), x_train], axis = 1)\n",
    "    x_aug = np.concatenate([np.asarray([[1]]), x], axis = 1)\n",
    "    \n",
    "    theta_length = x_train_aug.shape[1] \n",
    "    theta = np.zeros([theta_length, 1]) #so, theta element of R^(n+1). Initializing at zero\n",
    "    \n",
    "    #I should definitely be using a more intelligent way to stop the alg. maybe once below it drops below a certain threshold\n",
    "    for i in xrange(10):\n",
    "        #derivative\n",
    "        weights = getWeights(x_train_aug, x_aug, tau)\n",
    "        z = weights * (y_train - hypothesis(theta, x_train_aug))\n",
    "        deriv = np.dot(x_train_aug.transpose(), z) - LAMBDA * theta\n",
    "\n",
    "        #hessian\n",
    "        diags = -weights * hypothesis(theta, x_aug) * (1 - hypothesis(theta, x_aug))\n",
    "        D = np.diag(diags[:, 0])\n",
    "        H = np.dot(np.dot(x_train_aug.transpose(), D), x_train_aug) - LAMBDA * np.eye(x_train_aug.shape[1])\n",
    "\n",
    "        theta_new = theta - np.dot(np.linalg.inv(H), deriv)\n",
    "        \n",
    "        dist = np.linalg.norm(theta_new - theta)\n",
    "        #print \"old theta: \\n\" + str(theta)\n",
    "        #print \"new theta: \\n\" + str(theta_new)\n",
    "        #print \"distance: \" + str(dist)\n",
    "        #print \"***************\"\n",
    "        \n",
    "        \n",
    "        theta = theta_new\n",
    "    \n",
    "    return theta"
   ]
  },
  {
   "cell_type": "code",
   "execution_count": 11,
   "metadata": {
    "collapsed": false
   },
   "outputs": [],
   "source": [
    "#final_theta = lwlr(data, labels, np.asarray([[-0.347926, 0.862573]]), 1)"
   ]
  },
  {
   "cell_type": "markdown",
   "metadata": {},
   "source": [
    "<h1> Let's plot the resulting classifiers </h1>"
   ]
  },
  {
   "cell_type": "code",
   "execution_count": 78,
   "metadata": {
    "collapsed": false
   },
   "outputs": [
    {
     "name": "stdout",
     "output_type": "stream",
     "text": [
      "Current size: [15.0, 15.0]\n"
     ]
    }
   ],
   "source": [
    "# Get current size\n",
    "fig_size = plt.rcParams[\"figure.figsize\"]\n",
    "\n",
    "print \"Current size:\", fig_size\n",
    " \n",
    "# Set figure width and height\n",
    "fig_size[0] = 20\n",
    "fig_size[1] = 20\n",
    "plt.rcParams[\"figure.figsize\"] = fig_size"
   ]
  },
  {
   "cell_type": "code",
   "execution_count": 82,
   "metadata": {
    "collapsed": false
   },
   "outputs": [],
   "source": [
    "def plot_lwlr(data, labels, tau, res):\n",
    "    pred = np.empty(shape = (res, res))\n",
    "\n",
    "    x = np.zeros([1, 2])\n",
    "    for i in xrange(1, res):\n",
    "        if i % 15 == 0:\n",
    "            print i\n",
    "        for j in xrange(1, res):\n",
    "            x[0][0] = (2*(i-1)/float(res-1)) - 1\n",
    "            x[0][1] = (2*(j-1)/float(res-1)) - 1\n",
    "            final_theta = lwlr(data, labels, x, tau)\n",
    "            x_aug = np.concatenate([np.asarray([[1]]), x], axis = 1)\n",
    "            pred[i][j] = hypothesis(final_theta, x_aug) \n",
    "            \n",
    "            if pred[i][j] < 0.5:\n",
    "                plt.scatter(x[0][0], x[0][1], c = 'b', marker = 'x')\n",
    "            elif pred[i][j] > 0.5:\n",
    "                plt.scatter(x[0][0], x[0][1], c = 'r', marker = 'o')\n",
    "    \n",
    "    pred_negative = pred[pred == 0]\n",
    "    pred_positive = pred[pred == 1]\n",
    "    #plt.scatter(negative.var1, negative.var2, c = 'b', marker = 'x')\n",
    "    #plt.scatter(positive.var1, positive.var2, c = 'r', marker = 'o')\n",
    "    \n",
    "    \n",
    "    return pred"
   ]
  },
  {
   "cell_type": "code",
   "execution_count": 85,
   "metadata": {
    "collapsed": false
   },
   "outputs": [
    {
     "name": "stdout",
     "output_type": "stream",
     "text": [
      "15\n",
      "30\n",
      "45\n",
      "60\n",
      "75\n",
      "90\n",
      "105\n",
      "120\n",
      "135\n",
      "150\n",
      "165\n",
      "180\n",
      "195\n"
     ]
    },
    {
     "data": {
      "image/png": "[encoded data removed]",
      "text/plain": [
       "<matplotlib.figure.Figure at 0x7fb753bc0750>"
      ]
     },
     "metadata": {},
     "output_type": "display_data"
    }
   ],
   "source": [
    "pred = plot_lwlr(data, labels, tau=1, res=200)"
   ]
  },
  {
   "cell_type": "code",
   "execution_count": null,
   "metadata": {
    "collapsed": true
   },
   "outputs": [],
   "source": []
  }
 ],
 "metadata": {
  "kernelspec": {
   "display_name": "Python 2",
   "language": "python",
   "name": "python2"
  },
  "language_info": {
   "codemirror_mode": {
    "name": "ipython",
    "version": 2
   },
   "file_extension": ".py",
   "mimetype": "text/x-python",
   "name": "python",
   "nbconvert_exporter": "python",
   "pygments_lexer": "ipython2",
   "version": "2.7.6"
  }
 },
 "nbformat": 4,
 "nbformat_minor": 0
}
